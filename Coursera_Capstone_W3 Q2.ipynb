{
 "cells": [
  {
   "cell_type": "code",
   "execution_count": 4,
   "metadata": {},
   "outputs": [],
   "source": [
    "import urllib.request as request\n",
    "try:\n",
    "    wiki_html = request.urlopen('https://en.wikipedia.org/wiki/List_of_postal_codes_of_Canada:_M', timeout=20)\n",
    "    if wiki_html.status == 200:\n",
    "        canada_postcode_m = wiki_html.read().decode('utf-8')\n",
    "    else:\n",
    "        print(wiki_html.status)\n",
    "except:\n",
    "    print('get_error')"
   ]
  },
  {
   "cell_type": "markdown",
   "metadata": {},
   "source": [
    "# Use *urllib* to load html pages."
   ]
  },
  {
   "cell_type": "code",
   "execution_count": 5,
   "metadata": {},
   "outputs": [],
   "source": [
    "from bs4 import BeautifulSoup\n",
    "soup = BeautifulSoup(canada_postcode_m, 'lxml')\n",
    "postcode_table = soup.table.find_all('td')"
   ]
  },
  {
   "cell_type": "markdown",
   "metadata": {},
   "source": [
    "# Use *BeatuifulSoup* read all table cells from html\n",
    "## All postal codes fields are tag with 'td', so just find all td tags."
   ]
  },
  {
   "cell_type": "markdown",
   "metadata": {},
   "source": [
    "## Merge 'Borough and Neighbourhood' Fields by Postcode one by one except text is 'Not assigned'"
   ]
  },
  {
   "cell_type": "code",
   "execution_count": 6,
   "metadata": {},
   "outputs": [],
   "source": [
    "zip_code_dict = {}\n",
    "for i in range(int(len(postcode_table)/3)):\n",
    "    postcode = postcode_table[i*3].text\n",
    "    borough = postcode_table[i*3+1].text\n",
    "    neighbourhood = postcode_table[i*3+2].text.strip('\\n')\n",
    "    if postcode not in zip_code_dict.keys():\n",
    "        zip_code_dict[postcode] = {'Borough': '', 'Neighbourhood': []}\n",
    "    if 'Not assigned' not in borough:\n",
    "        zip_code_dict[postcode]['Borough'] = borough\n",
    "    if 'Not assigned' not in neighbourhood:\n",
    "        zip_code_dict[postcode]['Neighbourhood'].append(neighbourhood)  "
   ]
  },
  {
   "cell_type": "markdown",
   "metadata": {},
   "source": [
    "# Drop Postcode where Borough is empty\n",
    "# Fill Neighbourhood with Borough while Neighbourhood is empty.\n",
    "# Concat Neighbourhood while Neighbourhood counts more than one with comma."
   ]
  },
  {
   "cell_type": "code",
   "execution_count": 11,
   "metadata": {},
   "outputs": [
    {
     "data": {
      "text/plain": [
       "(103, 3)"
      ]
     },
     "execution_count": 11,
     "metadata": {},
     "output_type": "execute_result"
    }
   ],
   "source": [
    "neighbourhood_pd.shape"
   ]
  },
  {
   "cell_type": "code",
   "execution_count": 9,
   "metadata": {},
   "outputs": [],
   "source": [
    "neighbourhood_dict = {'Postcode':[], 'Borough': [], 'Neighbourhood': []}\n",
    "for postcode in zip_code_dict.keys():\n",
    "    if zip_code_dict[postcode]['Borough'] != '':\n",
    "        neighbourhood_dict['Postcode'].append(postcode)\n",
    "        neighbourhood_dict['Borough'].append(zip_code_dict[postcode]['Borough'])\n",
    "        if len(zip_code_dict[postcode]['Neighbourhood']) > 0:\n",
    "            neighbourhood_dict['Neighbourhood'].append(','.join(zip_code_dict[postcode]['Neighbourhood']))\n",
    "        else:\n",
    "            neighbourhood_dict['Neighbourhood'].append(zip_code_dict[postcode]['Borough'])\n",
    "import pandas as pd\n",
    "neighbourhood_pd =  pd.DataFrame(neighbourhood_dict)"
   ]
  },
  {
   "cell_type": "markdown",
   "metadata": {},
   "source": [
    "# Print the shape."
   ]
  },
  {
   "cell_type": "code",
   "execution_count": 28,
   "metadata": {},
   "outputs": [
    {
     "data": {
      "text/html": [
       "<div>\n",
       "<style scoped>\n",
       "    .dataframe tbody tr th:only-of-type {\n",
       "        vertical-align: middle;\n",
       "    }\n",
       "\n",
       "    .dataframe tbody tr th {\n",
       "        vertical-align: top;\n",
       "    }\n",
       "\n",
       "    .dataframe thead th {\n",
       "        text-align: right;\n",
       "    }\n",
       "</style>\n",
       "<table border=\"1\" class=\"dataframe\">\n",
       "  <thead>\n",
       "    <tr style=\"text-align: right;\">\n",
       "      <th></th>\n",
       "      <th>Postcode</th>\n",
       "      <th>Borough</th>\n",
       "      <th>Neighbourhood</th>\n",
       "      <th>Latitude</th>\n",
       "      <th>Longitude</th>\n",
       "    </tr>\n",
       "  </thead>\n",
       "  <tbody>\n",
       "    <tr>\n",
       "      <th>0</th>\n",
       "      <td>M3A</td>\n",
       "      <td>North York</td>\n",
       "      <td>Parkwoods</td>\n",
       "      <td>43.753259</td>\n",
       "      <td>-79.329656</td>\n",
       "    </tr>\n",
       "    <tr>\n",
       "      <th>1</th>\n",
       "      <td>M4A</td>\n",
       "      <td>North York</td>\n",
       "      <td>Victoria Village</td>\n",
       "      <td>43.725882</td>\n",
       "      <td>-79.315572</td>\n",
       "    </tr>\n",
       "    <tr>\n",
       "      <th>2</th>\n",
       "      <td>M5A</td>\n",
       "      <td>Downtown Toronto</td>\n",
       "      <td>Harbourfront,Regent Park</td>\n",
       "      <td>43.654260</td>\n",
       "      <td>-79.360636</td>\n",
       "    </tr>\n",
       "    <tr>\n",
       "      <th>3</th>\n",
       "      <td>M6A</td>\n",
       "      <td>North York</td>\n",
       "      <td>Lawrence Heights,Lawrence Manor</td>\n",
       "      <td>43.718518</td>\n",
       "      <td>-79.464763</td>\n",
       "    </tr>\n",
       "    <tr>\n",
       "      <th>4</th>\n",
       "      <td>M7A</td>\n",
       "      <td>Queen's Park</td>\n",
       "      <td>Queen's Park</td>\n",
       "      <td>43.662301</td>\n",
       "      <td>-79.389494</td>\n",
       "    </tr>\n",
       "  </tbody>\n",
       "</table>\n",
       "</div>"
      ],
      "text/plain": [
       "  Postcode           Borough                    Neighbourhood   Latitude  \\\n",
       "0      M3A        North York                        Parkwoods  43.753259   \n",
       "1      M4A        North York                 Victoria Village  43.725882   \n",
       "2      M5A  Downtown Toronto         Harbourfront,Regent Park  43.654260   \n",
       "3      M6A        North York  Lawrence Heights,Lawrence Manor  43.718518   \n",
       "4      M7A      Queen's Park                     Queen's Park  43.662301   \n",
       "\n",
       "   Longitude  \n",
       "0 -79.329656  \n",
       "1 -79.315572  \n",
       "2 -79.360636  \n",
       "3 -79.464763  \n",
       "4 -79.389494  "
      ]
     },
     "execution_count": 28,
     "metadata": {},
     "output_type": "execute_result"
    }
   ],
   "source": [
    "neighbourhoob_pd_with_GEO.head()"
   ]
  },
  {
   "cell_type": "markdown",
   "metadata": {},
   "source": [
    "# Because the internet problem from China, I use csv data instead. \n",
    "# Use *wget* to retrieve csv data."
   ]
  },
  {
   "cell_type": "code",
   "execution_count": null,
   "metadata": {},
   "outputs": [],
   "source": [
    "!wget http://cocl.us/Geospatial_data"
   ]
  },
  {
   "cell_type": "markdown",
   "metadata": {},
   "source": [
    "# Merge to Dataframe and drop extra column."
   ]
  },
  {
   "cell_type": "code",
   "execution_count": 24,
   "metadata": {},
   "outputs": [],
   "source": [
    "geo_df = pd.read_csv('Geospatial_data')\n",
    "neighbourhoob_pd_with_GEO = pd.merge(neighbourhood_pd, geo_df, left_on = ['Postcode'], right_on = ['Postal Code'],how='left')\n",
    "neighbourhoob_pd_with_GEO.drop(['Postal Code'], axis=1, inplace=True)"
   ]
  },
  {
   "cell_type": "markdown",
   "metadata": {},
   "source": [
    "# Print the Dataframe Head."
   ]
  }
 ],
 "metadata": {
  "kernelspec": {
   "display_name": "Python 3",
   "language": "python",
   "name": "python3"
  },
  "language_info": {
   "codemirror_mode": {
    "name": "ipython",
    "version": 3
   },
   "file_extension": ".py",
   "mimetype": "text/x-python",
   "name": "python",
   "nbconvert_exporter": "python",
   "pygments_lexer": "ipython3",
   "version": "3.6.8"
  }
 },
 "nbformat": 4,
 "nbformat_minor": 2
}
