{
 "cells": [
  {
   "cell_type": "code",
   "execution_count": 4,
   "metadata": {},
   "outputs": [],
   "source": [
    "import urllib.request as request\n",
    "try:\n",
    "    wiki_html = request.urlopen('https://en.wikipedia.org/wiki/List_of_postal_codes_of_Canada:_M', timeout=20)\n",
    "    if wiki_html.status == 200:\n",
    "        canada_postcode_m = wiki_html.read().decode('utf-8')\n",
    "    else:\n",
    "        print(wiki_html.status)\n",
    "except:\n",
    "    print('get_error')"
   ]
  },
  {
   "cell_type": "markdown",
   "metadata": {},
   "source": [
    "# Use *urllib* to load html pages."
   ]
  },
  {
   "cell_type": "code",
   "execution_count": 5,
   "metadata": {},
   "outputs": [],
   "source": [
    "from bs4 import BeautifulSoup\n",
    "soup = BeautifulSoup(canada_postcode_m, 'lxml')\n",
    "postcode_table = soup.table.find_all('td')"
   ]
  },
  {
   "cell_type": "markdown",
   "metadata": {},
   "source": [
    "# Use *BeatuifulSoup* read all table cells from html\n",
    "## All postal codes fields are tag with 'td', so just find all td tags."
   ]
  },
  {
   "cell_type": "markdown",
   "metadata": {},
   "source": [
    "## Merge 'Borough and Neighbourhood' Fields by Postcode one by one except text is 'Not assigned'"
   ]
  },
  {
   "cell_type": "code",
   "execution_count": 6,
   "metadata": {},
   "outputs": [],
   "source": [
    "zip_code_dict = {}\n",
    "for i in range(int(len(postcode_table)/3)):\n",
    "    postcode = postcode_table[i*3].text\n",
    "    borough = postcode_table[i*3+1].text\n",
    "    neighbourhood = postcode_table[i*3+2].text.strip('\\n')\n",
    "    if postcode not in zip_code_dict.keys():\n",
    "        zip_code_dict[postcode] = {'Borough': '', 'Neighbourhood': []}\n",
    "    if 'Not assigned' not in borough:\n",
    "        zip_code_dict[postcode]['Borough'] = borough\n",
    "    if 'Not assigned' not in neighbourhood:\n",
    "        zip_code_dict[postcode]['Neighbourhood'].append(neighbourhood)  "
   ]
  },
  {
   "cell_type": "markdown",
   "metadata": {},
   "source": [
    "# Drop Postcode where Borough is empty\n",
    "# Fill Neighbourhood with Borough while Neighbourhood is empty.\n",
    "# Concat Neighbourhood while Neighbourhood counts more than one with comma."
   ]
  },
  {
   "cell_type": "code",
   "execution_count": 7,
   "metadata": {},
   "outputs": [],
   "source": [
    "neighbourhood_dict = {'Postcode':[], 'Borough': [], 'Neighbourhood': []}\n",
    "for postcode in zip_code_dict.keys():\n",
    "    if zip_code_dict[postcode]['Borough'] != '':\n",
    "        neighbourhood_dict['Postcode'].append(postcode)\n",
    "        neighbourhood_dict['Borough'].append(zip_code_dict[postcode]['Borough'])\n",
    "        if len(zip_code_dict[postcode]['Neighbourhood']) > 0:\n",
    "            neighbourhood_dict['Neighbourhood'].append(','.join(zip_code_dict[postcode]['Neighbourhood']))\n",
    "        else:\n",
    "            neighbourhood_dict['Neighbourhood'].append(zip_code_dict[postcode]['Borough'])\n",
    "import pandas as pd\n",
    "neighbourhood_pd =  pd.DataFrame(neighbourhood_dict)"
   ]
  },
  {
   "cell_type": "code",
   "execution_count": 8,
   "metadata": {},
   "outputs": [
    {
     "data": {
      "text/plain": [
       "(103, 3)"
      ]
     },
     "execution_count": 8,
     "metadata": {},
     "output_type": "execute_result"
    }
   ],
   "source": [
    "neighbourhood_pd.shape"
   ]
  },
  {
   "cell_type": "markdown",
   "metadata": {},
   "source": [
    "# Print the shape."
   ]
  }
 ],
 "metadata": {
  "kernelspec": {
   "display_name": "Python 3",
   "language": "python",
   "name": "python3"
  },
  "language_info": {
   "codemirror_mode": {
    "name": "ipython",
    "version": 3
   },
   "file_extension": ".py",
   "mimetype": "text/x-python",
   "name": "python",
   "nbconvert_exporter": "python",
   "pygments_lexer": "ipython3",
   "version": "3.6.8"
  }
 },
 "nbformat": 4,
 "nbformat_minor": 2
}
